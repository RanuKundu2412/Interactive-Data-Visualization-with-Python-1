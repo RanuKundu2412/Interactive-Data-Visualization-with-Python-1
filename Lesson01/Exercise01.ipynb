In [16]:
import seaborn as sns
import pandas as pd
In [17]:
diamonds_df_exercise = sns.load_dataset('diamonds')
In [18]:
def is_desired(x):
    bool_var = 'yes' if (x['cut']=='Ideal' and x['color']=='D') else 'no'
    return bool_var
In [19]:
diamonds_df_exercise['desired']=diamonds_df_exercise.apply(is_desired, axis=1)
diamonds_df_exercise.head()

